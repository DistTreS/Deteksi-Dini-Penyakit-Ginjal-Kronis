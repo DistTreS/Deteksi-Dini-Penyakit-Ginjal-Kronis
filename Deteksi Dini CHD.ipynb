{
 "cells": [
  {
   "cell_type": "code",
   "execution_count": 1,
   "id": "4299cc38-3a73-47a4-8975-1080a01ca527",
   "metadata": {},
   "outputs": [],
   "source": [
    "import pandas as pd\n",
    "\n",
    "df = pd.read_csv(\"Chronic_Kidney_Dsease_data.csv\")"
   ]
  },
  {
   "cell_type": "code",
   "execution_count": 2,
   "id": "f4978c2d-6821-495b-9f61-ca2b121b3692",
   "metadata": {},
   "outputs": [],
   "source": [
    "selected_features = [\n",
    "    'Age',\n",
    "    'Gender',\n",
    "    'BMI',\n",
    "    'SystolicBP',\n",
    "    'DiastolicBP',\n",
    "    'HbA1c',\n",
    "    'SerumCreatinine',\n",
    "    'GFR',\n",
    "    'HemoglobinLevels',\n",
    "    'CholesterolTotal'\n",
    "]\n",
    "target_column = 'Diagnosis'\n",
    "\n",
    "df_subset = df[selected_features + [target_column]].copy()\n"
   ]
  },
  {
   "cell_type": "code",
   "execution_count": 3,
   "id": "40d8684a-581e-4e92-99a9-91b448668fcc",
   "metadata": {},
   "outputs": [],
   "source": [
    "from sklearn.model_selection import train_test_split\n",
    "from sklearn.ensemble import RandomForestClassifier\n",
    "from sklearn.metrics import classification_report\n",
    "\n",
    "# Handle missing values (opsional: ubah strategi sesuai kebutuhan)\n",
    "df_subset = df_subset.dropna()\n",
    "\n",
    "# Ubah Gender jadi numerik\n",
    "df_subset['Gender'] = df_subset['Gender'].map({'Male': 1, 'Female': 0})\n",
    "\n",
    "# Split data\n",
    "X = df_subset[selected_features]\n",
    "y = df_subset[target_column]\n",
    "X_train, X_test, y_train, y_test = train_test_split(X, y, test_size=0.2, random_state=42)\n"
   ]
  },
  {
   "cell_type": "code",
   "execution_count": 4,
   "id": "af438497-f378-4e09-ae3d-997233d2dfc2",
   "metadata": {},
   "outputs": [
    {
     "name": "stdout",
     "output_type": "stream",
     "text": [
      "              precision    recall  f1-score   support\n",
      "\n",
      "           0       0.25      0.04      0.07        24\n",
      "           1       0.93      0.99      0.96       308\n",
      "\n",
      "    accuracy                           0.92       332\n",
      "   macro avg       0.59      0.52      0.52       332\n",
      "weighted avg       0.88      0.92      0.89       332\n",
      "\n"
     ]
    }
   ],
   "source": [
    "model = RandomForestClassifier(random_state=42)\n",
    "model.fit(X_train, y_train)\n",
    "\n",
    "y_pred = model.predict(X_test)\n",
    "\n",
    "print(classification_report(y_test, y_pred))\n"
   ]
  },
  {
   "cell_type": "code",
   "execution_count": 5,
   "id": "70b95bc0-330b-44ae-b42c-9c1b6d7e8e25",
   "metadata": {},
   "outputs": [],
   "source": [
    "import pickle\n",
    "import joblib"
   ]
  },
  {
   "cell_type": "code",
   "execution_count": 6,
   "id": "c7d6e565-ba1a-4bf2-b0d5-1e6bdc806f3c",
   "metadata": {},
   "outputs": [],
   "source": [
    "# Save model\n",
    "with open('heart_disease_model.pkl', 'wb') as f:\n",
    "    pickle.dump(model, f)\n",
    "\n",
    "# Save feature list untuk konsistensi input\n",
    "with open('selected_features.pkl', 'wb') as f:\n",
    "    pickle.dump(selected_features, f)"
   ]
  },
  {
   "cell_type": "code",
   "execution_count": 7,
   "id": "f02bd73a-585f-4bf4-b2e1-6c65b9ad927c",
   "metadata": {},
   "outputs": [
    {
     "data": {
      "text/plain": [
       "['selected_features.joblib']"
      ]
     },
     "execution_count": 7,
     "metadata": {},
     "output_type": "execute_result"
    }
   ],
   "source": [
    "joblib.dump(model, 'heart_disease_model.joblib')\n",
    "joblib.dump(selected_features, 'selected_features.joblib')"
   ]
  },
  {
   "cell_type": "code",
   "execution_count": 8,
   "id": "845eb76e-00f5-49fb-a8d6-eafb426e85c5",
   "metadata": {},
   "outputs": [],
   "source": [
    "# 2. Test loading model\n",
    "def test_model_loading():\n",
    "    # Load model\n",
    "    loaded_model = joblib.load('heart_disease_model.joblib')\n",
    "    loaded_features = joblib.load('selected_features.joblib')\n",
    "    \n",
    "    # Test prediction\n",
    "    sample_data = X_test.iloc[0:1]  # Ambil 1 sample\n",
    "    prediction = loaded_model.predict(sample_data)\n",
    "    probability = loaded_model.predict_proba(sample_data)\n",
    "    \n",
    "    print(f\"Prediction: {prediction[0]}\")\n",
    "    print(f\"Probability: {probability[0]}\")\n",
    "    print(f\"Features: {loaded_features}\")\n",
    "    \n",
    "    return loaded_model, loaded_features"
   ]
  },
  {
   "cell_type": "code",
   "execution_count": 9,
   "id": "56a61f27-668d-4c59-90fa-9a53f5ff51eb",
   "metadata": {},
   "outputs": [
    {
     "name": "stdout",
     "output_type": "stream",
     "text": [
      "Prediction: 1\n",
      "Probability: [0.16 0.84]\n",
      "Features: ['Age', 'Gender', 'BMI', 'SystolicBP', 'DiastolicBP', 'HbA1c', 'SerumCreatinine', 'GFR', 'HemoglobinLevels', 'CholesterolTotal']\n"
     ]
    }
   ],
   "source": [
    "# Jalankan test\n",
    "loaded_model, loaded_features = test_model_loading()"
   ]
  },
  {
   "cell_type": "code",
   "execution_count": 10,
   "id": "b996d9b6-468d-422a-b4c6-85e21aaaf074",
   "metadata": {},
   "outputs": [],
   "source": [
    "model_info = {\n",
    "    'model_type': 'RandomForestClassifier',\n",
    "    'features': selected_features,\n",
    "    'target_column': 'Diagnosis',\n",
    "    'classes': ['Tidak Berisiko', 'Berisiko'],\n",
    "    'accuracy': 0.92,\n",
    "    'created_date': '2025-06-02'\n",
    "}\n",
    "\n",
    "with open('model_info.pkl', 'wb') as f:\n",
    "    pickle.dump(model_info, f)"
   ]
  },
  {
   "cell_type": "code",
   "execution_count": null,
   "id": "afbc0767-9f98-41e1-aa72-8445cc2db3e7",
   "metadata": {},
   "outputs": [],
   "source": []
  }
 ],
 "metadata": {
  "kernelspec": {
   "display_name": "Python 3 (ipykernel)",
   "language": "python",
   "name": "python3"
  },
  "language_info": {
   "codemirror_mode": {
    "name": "ipython",
    "version": 3
   },
   "file_extension": ".py",
   "mimetype": "text/x-python",
   "name": "python",
   "nbconvert_exporter": "python",
   "pygments_lexer": "ipython3",
   "version": "3.12.3"
  }
 },
 "nbformat": 4,
 "nbformat_minor": 5
}
